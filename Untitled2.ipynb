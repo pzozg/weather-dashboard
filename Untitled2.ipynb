{
  "nbformat": 4,
  "nbformat_minor": 0,
  "metadata": {
    "colab": {
      "provenance": []
    },
    "kernelspec": {
      "name": "python3",
      "display_name": "Python 3"
    },
    "language_info": {
      "name": "python"
    }
  },
  "cells": [
    {
      "cell_type": "code",
      "execution_count": 3,
      "metadata": {
        "colab": {
          "base_uri": "https://localhost:8080/"
        },
        "id": "lyr9cUS4Taga",
        "outputId": "64ebf62f-ca76-4d06-b0bf-6e8a7aee63e1"
      },
      "outputs": [
        {
          "output_type": "stream",
          "name": "stdout",
          "text": [
            "Enter city: bombay\n",
            "City: Mumbai\n",
            "Temp (°C): 31.99\n",
            "Weather: Haze\n",
            "Humidity: 55%\n",
            "Wind: 3.6 m/s\n"
          ]
        }
      ],
      "source": [
        "import requests\n",
        "\n",
        "def get_weather(city, api_key):\n",
        "    url = f\"https://api.openweathermap.org/data/2.5/weather?q={city}&appid={api_key}&units=metric\"\n",
        "    try:\n",
        "        data = requests.get(url).json()\n",
        "        if data.get(\"cod\") != 200:\n",
        "            return \"City not found.\"\n",
        "        return {\n",
        "            \"City\": data[\"name\"],\n",
        "            \"Temp (°C)\": data[\"main\"][\"temp\"],\n",
        "            \"Weather\": data[\"weather\"][0][\"description\"].title(),\n",
        "            \"Humidity\": f\"{data['main']['humidity']}%\",\n",
        "            \"Wind\": f\"{data['wind']['speed']} m/s\"\n",
        "        }\n",
        "    except:\n",
        "        return \"Error fetching data.\"\n",
        "\n",
        "city = input(\"Enter city: \")\n",
        "api_key = \"466e1f1613d3589fb7b05bf3b5c75236\"\n",
        "weather = get_weather(city, api_key)\n",
        "\n",
        "if isinstance(weather, dict):\n",
        "    for k, v in weather.items():\n",
        "        print(f\"{k}: {v}\")\n",
        "else:\n",
        "    print(weather)\n"
      ]
    }
  ]
}